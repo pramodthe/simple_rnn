{
 "cells": [
  {
   "cell_type": "code",
   "execution_count": 17,
   "id": "cad633da",
   "metadata": {},
   "outputs": [],
   "source": [
    "from tensorflow.keras.preprocessing.text import one_hot"
   ]
  },
  {
   "cell_type": "code",
   "execution_count": 3,
   "id": "008f26a6",
   "metadata": {},
   "outputs": [],
   "source": [
    "### sentences\n",
    "sent=[  'the glass of milk',\n",
    "     'the glass of juice',\n",
    "     'the cup of tea',\n",
    "    'I am a good boy',\n",
    "     'I am a good developer',\n",
    "     'understand the meaning of words',\n",
    "     'your videos are good',]"
   ]
  },
  {
   "cell_type": "code",
   "execution_count": 4,
   "id": "06be76bf",
   "metadata": {},
   "outputs": [
    {
     "data": {
      "text/plain": [
       "['the glass of milk',\n",
       " 'the glass of juice',\n",
       " 'the cup of tea',\n",
       " 'I am a good boy',\n",
       " 'I am a good developer',\n",
       " 'understand the meaning of words',\n",
       " 'your videos are good']"
      ]
     },
     "execution_count": 4,
     "metadata": {},
     "output_type": "execute_result"
    }
   ],
   "source": [
    "sent"
   ]
  },
  {
   "cell_type": "code",
   "execution_count": 5,
   "id": "1a505276",
   "metadata": {},
   "outputs": [],
   "source": [
    "## Def voc size\n",
    "\n",
    "voc_size =1000"
   ]
  },
  {
   "cell_type": "code",
   "execution_count": 6,
   "id": "40cebbfe",
   "metadata": {},
   "outputs": [
    {
     "data": {
      "text/plain": [
       "[[584, 524, 818, 833],\n",
       " [584, 524, 818, 736],\n",
       " [584, 324, 818, 669],\n",
       " [664, 94, 472, 142, 578],\n",
       " [664, 94, 472, 142, 146],\n",
       " [655, 584, 613, 818, 621],\n",
       " [786, 233, 103, 142]]"
      ]
     },
     "execution_count": 6,
     "metadata": {},
     "output_type": "execute_result"
    }
   ],
   "source": [
    "# One hot representation\n",
    "\n",
    "one_hot_rep = [one_hot(words , voc_size) for words in sent]\n",
    "\n",
    "one_hot_rep"
   ]
  },
  {
   "cell_type": "code",
   "execution_count": 7,
   "id": "4a640a55",
   "metadata": {},
   "outputs": [],
   "source": [
    "## word embedding reprenstation\n",
    "\n",
    "from tensorflow.keras.layers import Embedding\n",
    "from tensorflow.keras.preprocessing.sequence import pad_sequences\n",
    "from tensorflow.keras.utils import pad_sequences\n",
    "from tensorflow.keras.models import Sequential"
   ]
  },
  {
   "cell_type": "code",
   "execution_count": 8,
   "id": "cd1a7f3c",
   "metadata": {},
   "outputs": [],
   "source": [
    "import numpy as np"
   ]
  },
  {
   "cell_type": "code",
   "execution_count": 9,
   "id": "5b9d6107",
   "metadata": {},
   "outputs": [
    {
     "name": "stdout",
     "output_type": "stream",
     "text": [
      "[[  0   0   0   0 584 524 818 833]\n",
      " [  0   0   0   0 584 524 818 736]\n",
      " [  0   0   0   0 584 324 818 669]\n",
      " [  0   0   0 664  94 472 142 578]\n",
      " [  0   0   0 664  94 472 142 146]\n",
      " [  0   0   0 655 584 613 818 621]\n",
      " [  0   0   0   0 786 233 103 142]]\n"
     ]
    }
   ],
   "source": [
    "sent_length=8\n",
    "embedded_docs=pad_sequences(one_hot_rep,padding='pre',maxlen=sent_length)\n",
    "print(embedded_docs)"
   ]
  },
  {
   "cell_type": "code",
   "execution_count": 10,
   "id": "3e066aca",
   "metadata": {},
   "outputs": [],
   "source": [
    "## feature representation\n",
    "dim=10"
   ]
  },
  {
   "cell_type": "code",
   "execution_count": 11,
   "id": "779a992b",
   "metadata": {},
   "outputs": [
    {
     "name": "stdout",
     "output_type": "stream",
     "text": [
      "WARNING:tensorflow:From c:\\Users\\pramo\\Desktop\\MY WEBAPP\\RNN\\venv\\Lib\\site-packages\\keras\\src\\backend.py:873: The name tf.get_default_graph is deprecated. Please use tf.compat.v1.get_default_graph instead.\n",
      "\n",
      "WARNING:tensorflow:From c:\\Users\\pramo\\Desktop\\MY WEBAPP\\RNN\\venv\\Lib\\site-packages\\keras\\src\\optimizers\\__init__.py:309: The name tf.train.Optimizer is deprecated. Please use tf.compat.v1.train.Optimizer instead.\n",
      "\n"
     ]
    }
   ],
   "source": [
    "model=Sequential()\n",
    "model.add(Embedding(voc_size,dim,input_length=sent_length))\n",
    "model.compile('adam','mse')"
   ]
  },
  {
   "cell_type": "code",
   "execution_count": 13,
   "id": "6a07cc55",
   "metadata": {},
   "outputs": [
    {
     "name": "stdout",
     "output_type": "stream",
     "text": [
      "Model: \"sequential\"\n",
      "_________________________________________________________________\n",
      " Layer (type)                Output Shape              Param #   \n",
      "=================================================================\n",
      " embedding (Embedding)       (None, 8, 10)             10000     \n",
      "                                                                 \n",
      "=================================================================\n",
      "Total params: 10000 (39.06 KB)\n",
      "Trainable params: 10000 (39.06 KB)\n",
      "Non-trainable params: 0 (0.00 Byte)\n",
      "_________________________________________________________________\n"
     ]
    }
   ],
   "source": [
    "model.summary()"
   ]
  },
  {
   "cell_type": "code",
   "execution_count": 16,
   "id": "4328f450",
   "metadata": {},
   "outputs": [
    {
     "name": "stdout",
     "output_type": "stream",
     "text": [
      "1/1 [==============================] - 0s 62ms/step\n"
     ]
    },
    {
     "data": {
      "text/plain": [
       "array([[-0.04939009, -0.01086538, -0.04416729, -0.01467624,  0.01290606,\n",
       "         0.0246048 , -0.01550733, -0.04742545,  0.01140003, -0.0411031 ],\n",
       "       [-0.04939009, -0.01086538, -0.04416729, -0.01467624,  0.01290606,\n",
       "         0.0246048 , -0.01550733, -0.04742545,  0.01140003, -0.0411031 ],\n",
       "       [-0.04939009, -0.01086538, -0.04416729, -0.01467624,  0.01290606,\n",
       "         0.0246048 , -0.01550733, -0.04742545,  0.01140003, -0.0411031 ],\n",
       "       [-0.04939009, -0.01086538, -0.04416729, -0.01467624,  0.01290606,\n",
       "         0.0246048 , -0.01550733, -0.04742545,  0.01140003, -0.0411031 ],\n",
       "       [ 0.00790328,  0.00894957,  0.01814086,  0.01186538, -0.02958292,\n",
       "         0.01398051,  0.04699644, -0.03718107,  0.04644466,  0.01013038],\n",
       "       [-0.03269781, -0.00965453,  0.0450612 , -0.02899098, -0.01134963,\n",
       "        -0.00834918,  0.01850191, -0.030643  ,  0.00876822, -0.0252463 ],\n",
       "       [-0.03562496,  0.02246196,  0.03845099,  0.02217293, -0.04231824,\n",
       "        -0.03166231, -0.00577108, -0.03086859,  0.02221013,  0.02106574],\n",
       "       [-0.03503603,  0.04737233,  0.01395914, -0.01648766, -0.03190987,\n",
       "         0.04122807, -0.03525333, -0.00204077,  0.01429224, -0.00279047]],\n",
       "      dtype=float32)"
      ]
     },
     "execution_count": 16,
     "metadata": {},
     "output_type": "execute_result"
    }
   ],
   "source": [
    "model.predict(embedded_docs[0])"
   ]
  },
  {
   "cell_type": "code",
   "execution_count": 15,
   "id": "284acf2d",
   "metadata": {},
   "outputs": [
    {
     "data": {
      "text/plain": [
       "array([  0,   0,   0,   0, 584, 524, 818, 833])"
      ]
     },
     "execution_count": 15,
     "metadata": {},
     "output_type": "execute_result"
    }
   ],
   "source": [
    "embedded_docs[0]"
   ]
  },
  {
   "cell_type": "code",
   "execution_count": null,
   "id": "d2de34d2",
   "metadata": {},
   "outputs": [],
   "source": []
  }
 ],
 "metadata": {
  "kernelspec": {
   "display_name": "Python 3",
   "language": "python",
   "name": "python3"
  },
  "language_info": {
   "codemirror_mode": {
    "name": "ipython",
    "version": 3
   },
   "file_extension": ".py",
   "mimetype": "text/x-python",
   "name": "python",
   "nbconvert_exporter": "python",
   "pygments_lexer": "ipython3",
   "version": "3.11.0"
  }
 },
 "nbformat": 4,
 "nbformat_minor": 5
}
